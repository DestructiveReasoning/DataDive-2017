{
 "cells": [
  {
   "cell_type": "markdown",
   "metadata": {},
   "source": [
    "### Imports"
   ]
  },
  {
   "cell_type": "code",
   "execution_count": 11,
   "metadata": {},
   "outputs": [],
   "source": [
    "%matplotlib inline\n",
    "import numpy as np\n",
    "import matplotlib.pyplot as plt\n",
    "import pandas as pd\n",
    "\n",
    "c = pd.read_csv('./Airbnb Seattle Listings/calendar.csv')\n",
    "l = pd.read_csv('./Airbnb Seattle Listings/listings.csv')\n",
    "r = pd.read_csv('./Airbnb Seattle Listings/reviews.csv')\n",
    "price = pd.read_csv('./Airbnb Seattle Listings/house_price.csv', dtype={'zipcode':object})\n",
    "rent = pd.read_csv('./Airbnb Seattle Listings/rent.csv', encoding='latin-1', dtype={'id':object,'State_Code':object,'State_Name':object,'State_ab':object,'County':object,'City':object,'Place':object,'Type':object,'Primary':object,'Zip_Code':object,'Area_Code':object,'ALand':object,'AWater':object,'Lat':object, 'Lon':object, 'Mean':int, 'Median':int, 'Stdev':int,'Samples':int})"
   ]
  },
  {
   "cell_type": "code",
   "execution_count": null,
   "metadata": {},
   "outputs": [],
   "source": []
  },
  {
   "cell_type": "markdown",
   "metadata": {},
   "source": [
    "### Homogenize attributes"
   ]
  },
  {
   "cell_type": "code",
   "execution_count": 2,
   "metadata": {
    "collapsed": true
   },
   "outputs": [],
   "source": [
    "# Price string to float\n",
    "l.price = l.price.replace('[\\$,]', '', regex=True).astype(float)\n",
    "# remove entries with corrupt zipcode\n",
    "l = l[l.zipcode != \"99\\n98122\"]\n",
    "# rename attribute to match other dataframes\n",
    "l = l.rename(columns={'id': 'listing_id'})\n",
    "rent = rent.rename(columns={'Zip_Code': 'zipcode'})\n",
    "\n",
    "# index dataframes by listing_id\n",
    "# c = c.set_index('listing_id')\n",
    "# l = l.set_index('zipcode')\n",
    "# rent = rent.set_index('zipcode')\n",
    "# r = r.set_index('listing_id')"
   ]
  },
  {
   "cell_type": "markdown",
   "metadata": {},
   "source": [
    "### Preview Data"
   ]
  },
  {
   "cell_type": "code",
   "execution_count": 14,
   "metadata": {
    "scrolled": true
   },
   "outputs": [
    {
     "data": {
      "text/plain": [
       "1110094"
      ]
     },
     "execution_count": 14,
     "metadata": {},
     "output_type": "execute_result"
    }
   ],
   "source": [
    "len(pd.merge(l, price, how='inner',on='zipcode'))"
   ]
  },
  {
   "cell_type": "code",
   "execution_count": null,
   "metadata": {},
   "outputs": [],
   "source": [
    "price.head()"
   ]
  },
  {
   "cell_type": "code",
   "execution_count": null,
   "metadata": {
    "scrolled": false
   },
   "outputs": [],
   "source": []
  },
  {
   "cell_type": "markdown",
   "metadata": {},
   "source": [
    "### Create dataframe with useful data"
   ]
  },
  {
   "cell_type": "code",
   "execution_count": null,
   "metadata": {},
   "outputs": [],
   "source": [
    "total_sq_ft = len(l.square_feet)\n",
    "nan_sq_ft = total_sq_ft - l.square_feet.count()\n",
    "print('\\nsquare_feet attribute is vastly Nan, not very useful')\n",
    "print('Total square_feet entries: {}, Total square_feet NaN: {}'.format(total_sq_ft, nan_sq_ft))\n",
    "\n",
    "\n",
    "data = l[['price', 'review_scores_location', 'square_feet', 'property_type', 'bedrooms','bathrooms','accommodates', 'zipcode', 'host_neighbourhood']]\n",
    "data.head()"
   ]
  },
  {
   "cell_type": "markdown",
   "metadata": {},
   "source": [
    "### Group by neighbourhood"
   ]
  },
  {
   "cell_type": "code",
   "execution_count": null,
   "metadata": {},
   "outputs": [],
   "source": [
    "by_neighbourhood = data.groupby(['host_neighbourhood'])\n",
    "\n",
    "hoods = data.host_neighbourhood.dropna().unique()\n",
    "\n",
    "h_prices = by_neighbourhood.price.mean()\n",
    "h_loc_reviews = by_neighbourhood.review_scores_location.mean()\n",
    "\n",
    "h_prices.head()\n"
   ]
  },
  {
   "cell_type": "markdown",
   "metadata": {
    "scrolled": true
   },
   "source": [
    "### Grouping by Zipcode"
   ]
  },
  {
   "cell_type": "code",
   "execution_count": null,
   "metadata": {},
   "outputs": [],
   "source": [
    "by_zip = data.groupby(['zipcode'])\n",
    "zips = data.zipcode.dropna().unique()\n",
    "z_prices = by_zip.price.mean()\n",
    "z_loc_reviews = by_zip.review_scores_location.mean()\n",
    "\n",
    "z_prices.head()"
   ]
  },
  {
   "cell_type": "markdown",
   "metadata": {},
   "source": [
    "### Plot Both Groupings"
   ]
  },
  {
   "cell_type": "code",
   "execution_count": null,
   "metadata": {},
   "outputs": [],
   "source": [
    "fig, xarr = plt.subplots(4,1, figsize=(35,45))\n",
    "fig.subplots_adjust(hspace=1)\n",
    "  \n",
    "xarr[0].bar(zips, z_prices)\n",
    "xarr[0].set_title('Mean Price per Zipcode')\n",
    "\n",
    "xarr[1].bar(zips, z_loc_reviews)\n",
    "xarr[1].set_title('Mean Location Review per Zipcode')\n",
    "\n",
    "xarr[2].bar(hoods, h_prices, width=0.5)\n",
    "xarr[2].set_title('Mean Price per Neighbourhood');\n",
    "\n",
    "xarr[3].bar(hoods, h_loc_reviews, width=0.5)\n",
    "xarr[3].set_title('Mean Location Reviews per Neighbourhood');\n",
    "\n",
    "for i in range(4):\n",
    "    plt.sca(xarr[i])\n",
    "    xarr[i].title.set_size(45)\n",
    "    fontsize = 25 if i < 2 else 15\n",
    "    plt.xticks(rotation='vertical', fontsize=fontsize)"
   ]
  },
  {
   "cell_type": "markdown",
   "metadata": {
    "scrolled": true
   },
   "source": [
    "\n",
    "### Attempt to find relationship between price and location review"
   ]
  },
  {
   "cell_type": "code",
   "execution_count": null,
   "metadata": {},
   "outputs": [],
   "source": [
    "z_price_loc_ratio = z_prices*z_loc_reviews\n",
    "h_price_loc_ratio = h_prices*h_loc_reviews\n",
    "\n",
    "fig, xarr = plt.subplots(2,1, figsize=(35,20))\n",
    "\n",
    "xarr[0].bar(zips, z_price_loc_ratio)\n",
    "xarr[0].set_title('Price over Location Review per Zipcode')\n",
    "xarr[0].set_ylabel('Price/Location Review')\n",
    "\n",
    "xarr[1].bar(hoods, h_price_loc_ratio)\n",
    "xarr[1].set_title('Price over Location Review per Neighbourhood')\n",
    "xarr[1].set_ylabel('Price/Location Review')\n",
    "\n",
    "for i in range(2):\n",
    "    plt.sca(xarr[i])\n",
    "    xarr[i].title.set_size(25)\n",
    "    xarr[i].yaxis.label.set_size(25)\n",
    "    xarr[i].set_xticks([])"
   ]
  },
  {
   "cell_type": "code",
   "execution_count": null,
   "metadata": {
    "scrolled": true
   },
   "outputs": [],
   "source": [
    "fig, xarr = plt.subplots(2,2, figsize=(35,50))\n",
    "\n",
    "xarr[0,0].bar(zips, z_prices, alpha = 0.5, color='r')\n",
    "xarr[0,1].bar(zips, z_price_loc_ratio, alpha = 0.5, color='b')\n",
    "\n",
    "xarr[1,0].bar(hoods, h_prices, alpha = 0.5, color='r')\n",
    "xarr[1,1].bar(hoods, h_price_loc_ratio, alpha = 0.5, color='b')\n",
    "\n"
   ]
  },
  {
   "cell_type": "code",
   "execution_count": null,
   "metadata": {},
   "outputs": [],
   "source": [
    "len(l)"
   ]
  },
  {
   "cell_type": "code",
   "execution_count": null,
   "metadata": {
    "collapsed": true
   },
   "outputs": [],
   "source": []
  }
 ],
 "metadata": {
  "kernelspec": {
   "display_name": "Python 3",
   "language": "python",
   "name": "python3"
  },
  "language_info": {
   "codemirror_mode": {
    "name": "ipython",
    "version": 3
   },
   "file_extension": ".py",
   "mimetype": "text/x-python",
   "name": "python",
   "nbconvert_exporter": "python",
   "pygments_lexer": "ipython3",
   "version": "3.6.3"
  }
 },
 "nbformat": 4,
 "nbformat_minor": 2
}
